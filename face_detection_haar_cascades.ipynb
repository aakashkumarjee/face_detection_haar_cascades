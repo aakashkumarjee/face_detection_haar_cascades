{
 "cells": [
  {
   "cell_type": "code",
   "execution_count": 1,
   "metadata": {},
   "outputs": [],
   "source": [
    "import cv2\n",
    "import numpy as np\n",
    "face_cascade = cv2.CascadeClassifier('C:\\opencv\\opencv\\sources\\data\\haarcascades\\haarcascade_frontalface_default.xml')\n"
   ]
  },
  {
   "cell_type": "code",
   "execution_count": 18,
   "metadata": {},
   "outputs": [],
   "source": [
    "face_coordinates = []\n",
    "def recognise_faces(faces):\n",
    "    for face in faces:\n",
    "        img = cv2.imread(face)\n",
    "        gray = cv2.cvtColor(img, cv2.COLOR_BGR2GRAY)\n",
    "        faces = face_cascade.detectMultiScale(gray, 1.035,5)\n",
    "        face_coordinates.append(faces)\n",
    "        print(len(faces), faces)\n",
    "        for (x,y,w,h) in faces:\n",
    "            img = cv2.rectangle(img, (x,y), (x+w, y+h), (255,0,0), 2) \n",
    "        cv2.imshow('img',img)\n",
    "        cv2.waitKey(0)\n",
    "        cv2.destroyAllWindows()"
   ]
  },
  {
   "cell_type": "code",
   "execution_count": 19,
   "metadata": {},
   "outputs": [
    {
     "name": "stdout",
     "output_type": "stream",
     "text": [
      "63 [[  16  440   57   57]\n",
      " [ 342  308   71   71]\n",
      " [ 331  444   68   68]\n",
      " [ 668  729   64   64]\n",
      " [ 126  446   65   65]\n",
      " [ 464  445   63   63]\n",
      " [ 255  305   61   61]\n",
      " [ 667  307   62   62]\n",
      " [ 446   21   60   60]\n",
      " [ 884  445   68   68]\n",
      " [ 237  450   64   64]\n",
      " [ 344  166   65   65]\n",
      " [ 990  320   59   59]\n",
      " [ 546  452   66   66]\n",
      " [ 675  455   63   63]\n",
      " [ 234  722   66   66]\n",
      " [ 779  454   60   60]\n",
      " [ 666  174   62   62]\n",
      " [ 998  724   65   65]\n",
      " [ 345  728   60   60]\n",
      " [ 885  172   65   65]\n",
      " [ 891  730   65   65]\n",
      " [ 115  727   68   68]\n",
      " [ 551  729   67   67]\n",
      " [ 886   27   63   63]\n",
      " [  15  733   70   70]\n",
      " [ 127  309   64   64]\n",
      " [ 448  309   62   62]\n",
      " [  14  166   73   73]\n",
      " [ 244  169   68   68]\n",
      " [ 559  302   63   63]\n",
      " [ 898  307   61   61]\n",
      " [  15  306   67   67]\n",
      " [ 446  159   78   78]\n",
      " [ 779  573   76   76]\n",
      " [ 125   27   65   65]\n",
      " [ 779  167   77   77]\n",
      " [ 452  719   77   77]\n",
      " [ 771   24   72   72]\n",
      " [ 230   23   72   72]\n",
      " [ 358   26   63   63]\n",
      " [ 560   26   72   72]\n",
      " [ 776  728   69   69]\n",
      " [ 997  164   69   69]\n",
      " [ 544  157   94   94]\n",
      " [ 673   26   70   70]\n",
      " [ 754  299   72   72]\n",
      " [ 668  753   63   63]\n",
      " [ 108  162   96   96]\n",
      " [ 970  723   74   74]\n",
      " [ 549  587   70   70]\n",
      " [ 655  591   64   64]\n",
      " [ 445  597   69   69]\n",
      " [ 336   48   28   28]\n",
      " [ 225  584   69   69]\n",
      " [ 332  588   59   59]\n",
      " [ 880  590   63   63]\n",
      " [1000  584   63   63]\n",
      " [ 324  803   28   28]\n",
      " [ 118  583   77   77]\n",
      " [  31  591   66   66]\n",
      " [  21   34   61   61]\n",
      " [ 990  468   69   69]]\n"
     ]
    }
   ],
   "source": [
    "#faces = ['faces/1.jpg','faces/2.jpg','faces/3.jpg','faces/4.jpg','faces/5.jpg','faces/6.jpg','faces/7.jpg','faces/8.jpg',]\n",
    "faces = ['faces.jpg']\n",
    "recognise_faces(faces)\n",
    "        "
   ]
  },
  {
   "cell_type": "code",
   "execution_count": null,
   "metadata": {},
   "outputs": [],
   "source": []
  }
 ],
 "metadata": {
  "kernelspec": {
   "display_name": "Python 3",
   "language": "python",
   "name": "python3"
  },
  "language_info": {
   "codemirror_mode": {
    "name": "ipython",
    "version": 3
   },
   "file_extension": ".py",
   "mimetype": "text/x-python",
   "name": "python",
   "nbconvert_exporter": "python",
   "pygments_lexer": "ipython3",
   "version": "3.7.6"
  }
 },
 "nbformat": 4,
 "nbformat_minor": 4
}
